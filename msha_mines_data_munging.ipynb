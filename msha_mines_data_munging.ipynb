{
 "cells": [
  {
   "cell_type": "markdown",
   "metadata": {},
   "source": [
    "# MSHA Mines Data Munging\n",
    "\n",
    "The data sets are on the [MSHA data sets page](https://arlweb.msha.gov/opengovernmentdata/ogimsha.asp).\n",
    "\n",
    "The purpose of this code is to munge the data in order to reduce the number of columns and rows to what is required for a different application."
   ]
  },
  {
   "cell_type": "code",
   "execution_count": 1,
   "metadata": {},
   "outputs": [],
   "source": [
    "import pandas as pd\n",
    "from IPython.display import display"
   ]
  },
  {
   "cell_type": "markdown",
   "metadata": {},
   "source": [
    "Read the mines list file."
   ]
  },
  {
   "cell_type": "code",
   "execution_count": 2,
   "metadata": {},
   "outputs": [],
   "source": [
    "# import from the MSHA website\n",
    "mines_definition = pd.read_table(\n",
    "    'https://arlweb.msha.gov/opengovernmentdata/DataSets/Mines_Definition_File.txt', \n",
    "    sep='|')"
   ]
  },
  {
   "cell_type": "code",
   "execution_count": 17,
   "metadata": {},
   "outputs": [
    {
     "data": {
      "text/html": [
       "<div>\n",
       "<style scoped>\n",
       "    .dataframe tbody tr th:only-of-type {\n",
       "        vertical-align: middle;\n",
       "    }\n",
       "\n",
       "    .dataframe tbody tr th {\n",
       "        vertical-align: top;\n",
       "    }\n",
       "\n",
       "    .dataframe thead th {\n",
       "        text-align: right;\n",
       "    }\n",
       "</style>\n",
       "<table border=\"1\" class=\"dataframe\">\n",
       "  <thead>\n",
       "    <tr style=\"text-align: right;\">\n",
       "      <th></th>\n",
       "      <th>TABLE_NAME</th>\n",
       "      <th>COLUMN_NAME</th>\n",
       "      <th>DATA_TYPE</th>\n",
       "      <th>DATA_LENGTH</th>\n",
       "      <th>FIELD_DESCRIPTION</th>\n",
       "    </tr>\n",
       "  </thead>\n",
       "  <tbody>\n",
       "    <tr>\n",
       "      <th>0</th>\n",
       "      <td>MINES</td>\n",
       "      <td>MINE_ID</td>\n",
       "      <td>VARCHAR2</td>\n",
       "      <td>7</td>\n",
       "      <td>Identification number assigned to the mine by MSHA.  It is a unique primary key to join to the Inspections, Mine Address, Accidents, Annual Employ/Prod and Qrtly Employ/Prod tables.</td>\n",
       "    </tr>\n",
       "    <tr>\n",
       "      <th>1</th>\n",
       "      <td>MINES</td>\n",
       "      <td>CURRENT_MINE_NAME</td>\n",
       "      <td>VARCHAR2</td>\n",
       "      <td>50</td>\n",
       "      <td>Name of the mine as designated on the Legal ID Form (LID) or Mine Information Form (MIF).</td>\n",
       "    </tr>\n",
       "    <tr>\n",
       "      <th>2</th>\n",
       "      <td>MINES</td>\n",
       "      <td>COAL_METAL_IND</td>\n",
       "      <td>VARCHAR2</td>\n",
       "      <td>1</td>\n",
       "      <td>Identifies if the mine is a Coal or Metal/Non-Metal mine.</td>\n",
       "    </tr>\n",
       "    <tr>\n",
       "      <th>3</th>\n",
       "      <td>MINES</td>\n",
       "      <td>CURRENT_MINE_TYPE</td>\n",
       "      <td>VARCHAR2</td>\n",
       "      <td>20</td>\n",
       "      <td>From the Legal ID (LID) form. The types are Facility, Surface or Underground.</td>\n",
       "    </tr>\n",
       "    <tr>\n",
       "      <th>4</th>\n",
       "      <td>MINES</td>\n",
       "      <td>CURRENT_MINE_STATUS</td>\n",
       "      <td>VARCHAR2</td>\n",
       "      <td>50</td>\n",
       "      <td>Current status of the mine.  Values are Abandoned, Abandoned and Sealed, Active, Intermittent, New Mine, NonProducing and Temporarily Idled.</td>\n",
       "    </tr>\n",
       "  </tbody>\n",
       "</table>\n",
       "</div>"
      ],
      "text/plain": [
       "  TABLE_NAME          COLUMN_NAME DATA_TYPE  DATA_LENGTH  \\\n",
       "0      MINES              MINE_ID  VARCHAR2            7   \n",
       "1      MINES    CURRENT_MINE_NAME  VARCHAR2           50   \n",
       "2      MINES       COAL_METAL_IND  VARCHAR2            1   \n",
       "3      MINES    CURRENT_MINE_TYPE  VARCHAR2           20   \n",
       "4      MINES  CURRENT_MINE_STATUS  VARCHAR2           50   \n",
       "\n",
       "                                                                                                                                                                       FIELD_DESCRIPTION  \n",
       "0  Identification number assigned to the mine by MSHA.  It is a unique primary key to join to the Inspections, Mine Address, Accidents, Annual Employ/Prod and Qrtly Employ/Prod tables.  \n",
       "1                                                                                              Name of the mine as designated on the Legal ID Form (LID) or Mine Information Form (MIF).  \n",
       "2                                                                                                                              Identifies if the mine is a Coal or Metal/Non-Metal mine.  \n",
       "3                                                                                                          From the Legal ID (LID) form. The types are Facility, Surface or Underground.  \n",
       "4                                           Current status of the mine.  Values are Abandoned, Abandoned and Sealed, Active, Intermittent, New Mine, NonProducing and Temporarily Idled.  "
      ]
     },
     "metadata": {},
     "output_type": "display_data"
    }
   ],
   "source": [
    "with pd.option_context('display.max_colwidth', 9999):\n",
    "     display(mines_definition.head())"
   ]
  },
  {
   "cell_type": "code",
   "execution_count": 4,
   "metadata": {},
   "outputs": [],
   "source": [
    "columns_to_read = ['MINE_ID', 'CURRENT_MINE_NAME', 'COAL_METAL_IND', \\\n",
    "                  'CURRENT_OPERATOR_ID', 'CURRENT_OPERATOR_NAME', \\\n",
    "                  'CURRENT_MINE_STATUS', 'LONGITUDE', 'LATITUDE', 'NO_EMPLOYEES']"
   ]
  },
  {
   "cell_type": "code",
   "execution_count": 5,
   "metadata": {},
   "outputs": [
    {
     "name": "stdout",
     "output_type": "stream",
     "text": [
      "['Mines.txt']\n"
     ]
    }
   ],
   "source": [
    "# to watch the download in a terminal\n",
    "# du -h Mines.zip\n",
    "from zipfile import ZipFile\n",
    "\n",
    "with ZipFile('Mines.zip', 'r') as zf:\n",
    "    print(zf.namelist())\n",
    "    with zf.open('Mines.txt') as fp:\n",
    "        mines = pd.read_table(fp, encoding='latin-1', sep='|', \\\n",
    "                              usecols=columns_to_read, \\\n",
    "                              parse_dates=True)"
   ]
  },
  {
   "cell_type": "code",
   "execution_count": 6,
   "metadata": {},
   "outputs": [
    {
     "data": {
      "text/plain": [
       "(86880, 9)"
      ]
     },
     "execution_count": 6,
     "metadata": {},
     "output_type": "execute_result"
    }
   ],
   "source": [
    "mines.shape"
   ]
  },
  {
   "cell_type": "code",
   "execution_count": 7,
   "metadata": {},
   "outputs": [
    {
     "data": {
      "text/plain": [
       "Index(['MINE_ID', 'CURRENT_MINE_NAME', 'COAL_METAL_IND', 'CURRENT_MINE_STATUS',\n",
       "       'CURRENT_OPERATOR_ID', 'CURRENT_OPERATOR_NAME', 'NO_EMPLOYEES',\n",
       "       'LONGITUDE', 'LATITUDE'],\n",
       "      dtype='object')"
      ]
     },
     "execution_count": 7,
     "metadata": {},
     "output_type": "execute_result"
    }
   ],
   "source": [
    "mines.columns"
   ]
  },
  {
   "cell_type": "code",
   "execution_count": 8,
   "metadata": {},
   "outputs": [
    {
     "data": {
      "text/plain": [
       "(6352, 9)"
      ]
     },
     "execution_count": 8,
     "metadata": {},
     "output_type": "execute_result"
    }
   ],
   "source": [
    "mines = mines[mines['CURRENT_MINE_STATUS'] == \"Active\"]\n",
    "mines.shape"
   ]
  },
  {
   "cell_type": "code",
   "execution_count": 9,
   "metadata": {},
   "outputs": [
    {
     "data": {
      "text/plain": [
       "(5482, 9)"
      ]
     },
     "execution_count": 9,
     "metadata": {},
     "output_type": "execute_result"
    }
   ],
   "source": [
    "mines = mines[mines.COAL_METAL_IND == \"M\"]\n",
    "mines.shape"
   ]
  },
  {
   "cell_type": "code",
   "execution_count": 18,
   "metadata": {},
   "outputs": [],
   "source": [
    "# create a set of specific mines\n",
    "mine_ids = [1400411, 1400412, 1400413, 1600358, 1600509, 1600970, \\\n",
    "            2000552, 2901042, 2901043, 2901785, 3000663, 3003255, \\\n",
    "            3301993, 3301994, 4101776, 4102478]"
   ]
  },
  {
   "cell_type": "code",
   "execution_count": 19,
   "metadata": {},
   "outputs": [],
   "source": [
    "# subset further with the specific mines\n",
    "mines = mines[mines['MINE_ID'].isin(mine_ids)]"
   ]
  },
  {
   "cell_type": "code",
   "execution_count": 20,
   "metadata": {},
   "outputs": [
    {
     "data": {
      "text/html": [
       "<div>\n",
       "<style scoped>\n",
       "    .dataframe tbody tr th:only-of-type {\n",
       "        vertical-align: middle;\n",
       "    }\n",
       "\n",
       "    .dataframe tbody tr th {\n",
       "        vertical-align: top;\n",
       "    }\n",
       "\n",
       "    .dataframe thead th {\n",
       "        text-align: right;\n",
       "    }\n",
       "</style>\n",
       "<table border=\"1\" class=\"dataframe\">\n",
       "  <thead>\n",
       "    <tr style=\"text-align: right;\">\n",
       "      <th></th>\n",
       "      <th>MINE_ID</th>\n",
       "      <th>CURRENT_MINE_NAME</th>\n",
       "      <th>COAL_METAL_IND</th>\n",
       "      <th>CURRENT_MINE_STATUS</th>\n",
       "      <th>CURRENT_OPERATOR_ID</th>\n",
       "      <th>CURRENT_OPERATOR_NAME</th>\n",
       "      <th>NO_EMPLOYEES</th>\n",
       "      <th>LONGITUDE</th>\n",
       "      <th>LATITUDE</th>\n",
       "    </tr>\n",
       "  </thead>\n",
       "  <tbody>\n",
       "    <tr>\n",
       "      <th>17203</th>\n",
       "      <td>1400411</td>\n",
       "      <td>Independent Salt Company</td>\n",
       "      <td>M</td>\n",
       "      <td>Active</td>\n",
       "      <td>L11317</td>\n",
       "      <td>Independent Salt Company</td>\n",
       "      <td>58.0</td>\n",
       "      <td>-98.127222</td>\n",
       "      <td>38.720833</td>\n",
       "    </tr>\n",
       "    <tr>\n",
       "      <th>17204</th>\n",
       "      <td>1400412</td>\n",
       "      <td>Hutchinson Salt Company</td>\n",
       "      <td>M</td>\n",
       "      <td>Active</td>\n",
       "      <td>L11799</td>\n",
       "      <td>Hutchinson Salt Company</td>\n",
       "      <td>52.0</td>\n",
       "      <td>-97.871111</td>\n",
       "      <td>38.046389</td>\n",
       "    </tr>\n",
       "    <tr>\n",
       "      <th>17205</th>\n",
       "      <td>1400413</td>\n",
       "      <td>Lyons Salt</td>\n",
       "      <td>M</td>\n",
       "      <td>Active</td>\n",
       "      <td>L11902</td>\n",
       "      <td>Lyons Salt Company</td>\n",
       "      <td>47.0</td>\n",
       "      <td>-98.190000</td>\n",
       "      <td>38.333056</td>\n",
       "    </tr>\n",
       "    <tr>\n",
       "      <th>31986</th>\n",
       "      <td>1600358</td>\n",
       "      <td>Cote Blanche Mine</td>\n",
       "      <td>M</td>\n",
       "      <td>Active</td>\n",
       "      <td>0136233</td>\n",
       "      <td>Compass Minerals Louisiana, Inc.</td>\n",
       "      <td>161.0</td>\n",
       "      <td>-91.723611</td>\n",
       "      <td>39.750833</td>\n",
       "    </tr>\n",
       "    <tr>\n",
       "      <th>32018</th>\n",
       "      <td>1600509</td>\n",
       "      <td>AVERY ISLAND</td>\n",
       "      <td>M</td>\n",
       "      <td>Active</td>\n",
       "      <td>L00028</td>\n",
       "      <td>Cargill Deicing Technology</td>\n",
       "      <td>178.0</td>\n",
       "      <td>-91.910278</td>\n",
       "      <td>29.895000</td>\n",
       "    </tr>\n",
       "  </tbody>\n",
       "</table>\n",
       "</div>"
      ],
      "text/plain": [
       "       MINE_ID         CURRENT_MINE_NAME COAL_METAL_IND CURRENT_MINE_STATUS  \\\n",
       "17203  1400411  Independent Salt Company              M              Active   \n",
       "17204  1400412   Hutchinson Salt Company              M              Active   \n",
       "17205  1400413                Lyons Salt              M              Active   \n",
       "31986  1600358        Cote Blanche Mine               M              Active   \n",
       "32018  1600509              AVERY ISLAND              M              Active   \n",
       "\n",
       "      CURRENT_OPERATOR_ID             CURRENT_OPERATOR_NAME  NO_EMPLOYEES  \\\n",
       "17203              L11317          Independent Salt Company          58.0   \n",
       "17204              L11799           Hutchinson Salt Company          52.0   \n",
       "17205              L11902                Lyons Salt Company          47.0   \n",
       "31986             0136233  Compass Minerals Louisiana, Inc.         161.0   \n",
       "32018              L00028        Cargill Deicing Technology         178.0   \n",
       "\n",
       "       LONGITUDE   LATITUDE  \n",
       "17203 -98.127222  38.720833  \n",
       "17204 -97.871111  38.046389  \n",
       "17205 -98.190000  38.333056  \n",
       "31986 -91.723611  39.750833  \n",
       "32018 -91.910278  29.895000  "
      ]
     },
     "metadata": {},
     "output_type": "display_data"
    }
   ],
   "source": [
    "#mines.head(100)\n",
    "with pd.option_context('display.max_colwidth', 9999):\n",
    "     display(mines.head(5))"
   ]
  },
  {
   "cell_type": "code",
   "execution_count": 13,
   "metadata": {},
   "outputs": [
    {
     "data": {
      "text/plain": [
       "(16, 9)"
      ]
     },
     "execution_count": 13,
     "metadata": {},
     "output_type": "execute_result"
    }
   ],
   "source": [
    "# drop duplicate rows, by default keeping the first in each set of duplicates\n",
    "mines.drop_duplicates()\n",
    "mines.shape"
   ]
  },
  {
   "cell_type": "code",
   "execution_count": 14,
   "metadata": {},
   "outputs": [
    {
     "data": {
      "text/html": [
       "<div>\n",
       "<style scoped>\n",
       "    .dataframe tbody tr th:only-of-type {\n",
       "        vertical-align: middle;\n",
       "    }\n",
       "\n",
       "    .dataframe tbody tr th {\n",
       "        vertical-align: top;\n",
       "    }\n",
       "\n",
       "    .dataframe thead th {\n",
       "        text-align: right;\n",
       "    }\n",
       "</style>\n",
       "<table border=\"1\" class=\"dataframe\">\n",
       "  <thead>\n",
       "    <tr style=\"text-align: right;\">\n",
       "      <th></th>\n",
       "      <th>MINE_ID</th>\n",
       "      <th>CURRENT_MINE_NAME</th>\n",
       "      <th>COAL_METAL_IND</th>\n",
       "      <th>CURRENT_MINE_STATUS</th>\n",
       "      <th>CURRENT_OPERATOR_ID</th>\n",
       "      <th>CURRENT_OPERATOR_NAME</th>\n",
       "      <th>NO_EMPLOYEES</th>\n",
       "      <th>LONGITUDE</th>\n",
       "      <th>LATITUDE</th>\n",
       "    </tr>\n",
       "  </thead>\n",
       "  <tbody>\n",
       "    <tr>\n",
       "      <th>17203</th>\n",
       "      <td>1400411</td>\n",
       "      <td>Independent Salt Company</td>\n",
       "      <td>M</td>\n",
       "      <td>Active</td>\n",
       "      <td>L11317</td>\n",
       "      <td>Independent Salt Company</td>\n",
       "      <td>58.0</td>\n",
       "      <td>-98.127222</td>\n",
       "      <td>38.720833</td>\n",
       "    </tr>\n",
       "    <tr>\n",
       "      <th>17204</th>\n",
       "      <td>1400412</td>\n",
       "      <td>Hutchinson Salt Company</td>\n",
       "      <td>M</td>\n",
       "      <td>Active</td>\n",
       "      <td>L11799</td>\n",
       "      <td>Hutchinson Salt Company</td>\n",
       "      <td>52.0</td>\n",
       "      <td>-97.871111</td>\n",
       "      <td>38.046389</td>\n",
       "    </tr>\n",
       "    <tr>\n",
       "      <th>17205</th>\n",
       "      <td>1400413</td>\n",
       "      <td>Lyons Salt</td>\n",
       "      <td>M</td>\n",
       "      <td>Active</td>\n",
       "      <td>L11902</td>\n",
       "      <td>Lyons Salt Company</td>\n",
       "      <td>47.0</td>\n",
       "      <td>-98.190000</td>\n",
       "      <td>38.333056</td>\n",
       "    </tr>\n",
       "    <tr>\n",
       "      <th>31986</th>\n",
       "      <td>1600358</td>\n",
       "      <td>Cote Blanche Mine</td>\n",
       "      <td>M</td>\n",
       "      <td>Active</td>\n",
       "      <td>0136233</td>\n",
       "      <td>Compass Minerals Louisiana, Inc.</td>\n",
       "      <td>161.0</td>\n",
       "      <td>-91.723611</td>\n",
       "      <td>39.750833</td>\n",
       "    </tr>\n",
       "    <tr>\n",
       "      <th>32018</th>\n",
       "      <td>1600509</td>\n",
       "      <td>AVERY ISLAND</td>\n",
       "      <td>M</td>\n",
       "      <td>Active</td>\n",
       "      <td>L00028</td>\n",
       "      <td>Cargill Deicing Technology</td>\n",
       "      <td>178.0</td>\n",
       "      <td>-91.910278</td>\n",
       "      <td>29.895000</td>\n",
       "    </tr>\n",
       "    <tr>\n",
       "      <th>32162</th>\n",
       "      <td>1600970</td>\n",
       "      <td>Weeks Island Mine and Mill</td>\n",
       "      <td>M</td>\n",
       "      <td>Active</td>\n",
       "      <td>0114165</td>\n",
       "      <td>Morton Salt Inc</td>\n",
       "      <td>227.0</td>\n",
       "      <td>-91.811389</td>\n",
       "      <td>29.805556</td>\n",
       "    </tr>\n",
       "    <tr>\n",
       "      <th>34545</th>\n",
       "      <td>2000552</td>\n",
       "      <td>DETROIT SALT MINE</td>\n",
       "      <td>M</td>\n",
       "      <td>Active</td>\n",
       "      <td>L15686</td>\n",
       "      <td>Detroit Salt Co LLC</td>\n",
       "      <td>41.0</td>\n",
       "      <td>-83.148889</td>\n",
       "      <td>42.282778</td>\n",
       "    </tr>\n",
       "    <tr>\n",
       "      <th>44463</th>\n",
       "      <td>2901042</td>\n",
       "      <td>CARLSBAD LAKE PLANT</td>\n",
       "      <td>M</td>\n",
       "      <td>Active</td>\n",
       "      <td>L00708</td>\n",
       "      <td>United Salt Carlsbad LLC</td>\n",
       "      <td>40.0</td>\n",
       "      <td>-103.973056</td>\n",
       "      <td>32.392500</td>\n",
       "    </tr>\n",
       "    <tr>\n",
       "      <th>44464</th>\n",
       "      <td>2901043</td>\n",
       "      <td>CARLSBAD PLANT</td>\n",
       "      <td>M</td>\n",
       "      <td>Active</td>\n",
       "      <td>L00708</td>\n",
       "      <td>United Salt Carlsbad LLC</td>\n",
       "      <td>38.0</td>\n",
       "      <td>-103.989167</td>\n",
       "      <td>32.552222</td>\n",
       "    </tr>\n",
       "    <tr>\n",
       "      <th>44704</th>\n",
       "      <td>2901785</td>\n",
       "      <td>New Mexico Salt &amp; Minerals Corp</td>\n",
       "      <td>M</td>\n",
       "      <td>Active</td>\n",
       "      <td>L06884</td>\n",
       "      <td>New Mexico Salt &amp; Minerals Corp</td>\n",
       "      <td>1.0</td>\n",
       "      <td>-104.041111</td>\n",
       "      <td>32.304444</td>\n",
       "    </tr>\n",
       "    <tr>\n",
       "      <th>45481</th>\n",
       "      <td>3000663</td>\n",
       "      <td>Cayuga Mine</td>\n",
       "      <td>M</td>\n",
       "      <td>Active</td>\n",
       "      <td>L00028</td>\n",
       "      <td>Cargill Deicing Technology a BU of Cargill, Inc.</td>\n",
       "      <td>205.0</td>\n",
       "      <td>-76.531667</td>\n",
       "      <td>42.534722</td>\n",
       "    </tr>\n",
       "    <tr>\n",
       "      <th>47027</th>\n",
       "      <td>3003255</td>\n",
       "      <td>Hampton Corners Mine and Retsof Bagging</td>\n",
       "      <td>M</td>\n",
       "      <td>Active</td>\n",
       "      <td>L16134</td>\n",
       "      <td>American Rock Salt Company LLC</td>\n",
       "      <td>215.0</td>\n",
       "      <td>-77.835556</td>\n",
       "      <td>42.748333</td>\n",
       "    </tr>\n",
       "    <tr>\n",
       "      <th>49999</th>\n",
       "      <td>3301993</td>\n",
       "      <td>Morton Salt Fairport Mine</td>\n",
       "      <td>M</td>\n",
       "      <td>Active</td>\n",
       "      <td>0114165</td>\n",
       "      <td>Morton Salt Inc</td>\n",
       "      <td>130.0</td>\n",
       "      <td>-81.284167</td>\n",
       "      <td>41.754444</td>\n",
       "    </tr>\n",
       "    <tr>\n",
       "      <th>50000</th>\n",
       "      <td>3301994</td>\n",
       "      <td>Cargill Deicing Technology-Cleveland Mn</td>\n",
       "      <td>M</td>\n",
       "      <td>Active</td>\n",
       "      <td>L00028</td>\n",
       "      <td>Cargill Deicing Technology</td>\n",
       "      <td>150.0</td>\n",
       "      <td>-81.710556</td>\n",
       "      <td>41.498333</td>\n",
       "    </tr>\n",
       "    <tr>\n",
       "      <th>64168</th>\n",
       "      <td>4101776</td>\n",
       "      <td>GRAND SALINE OPERATIONS</td>\n",
       "      <td>M</td>\n",
       "      <td>Active</td>\n",
       "      <td>0114165</td>\n",
       "      <td>Morton Salt Inc</td>\n",
       "      <td>215.0</td>\n",
       "      <td>-95.710833</td>\n",
       "      <td>32.658056</td>\n",
       "    </tr>\n",
       "    <tr>\n",
       "      <th>64298</th>\n",
       "      <td>4102478</td>\n",
       "      <td>HOCKLEY MINE</td>\n",
       "      <td>M</td>\n",
       "      <td>Active</td>\n",
       "      <td>0135693</td>\n",
       "      <td>United Salt Hockley, LLC</td>\n",
       "      <td>48.0</td>\n",
       "      <td>-95.838889</td>\n",
       "      <td>29.964722</td>\n",
       "    </tr>\n",
       "  </tbody>\n",
       "</table>\n",
       "</div>"
      ],
      "text/plain": [
       "       MINE_ID                        CURRENT_MINE_NAME COAL_METAL_IND  \\\n",
       "17203  1400411                 Independent Salt Company              M   \n",
       "17204  1400412                  Hutchinson Salt Company              M   \n",
       "17205  1400413                               Lyons Salt              M   \n",
       "31986  1600358                       Cote Blanche Mine               M   \n",
       "32018  1600509                             AVERY ISLAND              M   \n",
       "32162  1600970               Weeks Island Mine and Mill              M   \n",
       "34545  2000552                        DETROIT SALT MINE              M   \n",
       "44463  2901042                      CARLSBAD LAKE PLANT              M   \n",
       "44464  2901043                           CARLSBAD PLANT              M   \n",
       "44704  2901785          New Mexico Salt & Minerals Corp              M   \n",
       "45481  3000663                              Cayuga Mine              M   \n",
       "47027  3003255  Hampton Corners Mine and Retsof Bagging              M   \n",
       "49999  3301993               Morton Salt Fairport Mine               M   \n",
       "50000  3301994  Cargill Deicing Technology-Cleveland Mn              M   \n",
       "64168  4101776                  GRAND SALINE OPERATIONS              M   \n",
       "64298  4102478                             HOCKLEY MINE              M   \n",
       "\n",
       "      CURRENT_MINE_STATUS CURRENT_OPERATOR_ID  \\\n",
       "17203              Active              L11317   \n",
       "17204              Active              L11799   \n",
       "17205              Active              L11902   \n",
       "31986              Active             0136233   \n",
       "32018              Active              L00028   \n",
       "32162              Active             0114165   \n",
       "34545              Active              L15686   \n",
       "44463              Active              L00708   \n",
       "44464              Active              L00708   \n",
       "44704              Active              L06884   \n",
       "45481              Active              L00028   \n",
       "47027              Active              L16134   \n",
       "49999              Active             0114165   \n",
       "50000              Active              L00028   \n",
       "64168              Active             0114165   \n",
       "64298              Active             0135693   \n",
       "\n",
       "                                  CURRENT_OPERATOR_NAME  NO_EMPLOYEES  \\\n",
       "17203                          Independent Salt Company          58.0   \n",
       "17204                           Hutchinson Salt Company          52.0   \n",
       "17205                                Lyons Salt Company          47.0   \n",
       "31986                  Compass Minerals Louisiana, Inc.         161.0   \n",
       "32018                        Cargill Deicing Technology         178.0   \n",
       "32162                                   Morton Salt Inc         227.0   \n",
       "34545                               Detroit Salt Co LLC          41.0   \n",
       "44463                          United Salt Carlsbad LLC          40.0   \n",
       "44464                          United Salt Carlsbad LLC          38.0   \n",
       "44704                   New Mexico Salt & Minerals Corp           1.0   \n",
       "45481  Cargill Deicing Technology a BU of Cargill, Inc.         205.0   \n",
       "47027                    American Rock Salt Company LLC         215.0   \n",
       "49999                                   Morton Salt Inc         130.0   \n",
       "50000                        Cargill Deicing Technology         150.0   \n",
       "64168                                   Morton Salt Inc         215.0   \n",
       "64298                          United Salt Hockley, LLC          48.0   \n",
       "\n",
       "        LONGITUDE   LATITUDE  \n",
       "17203  -98.127222  38.720833  \n",
       "17204  -97.871111  38.046389  \n",
       "17205  -98.190000  38.333056  \n",
       "31986  -91.723611  39.750833  \n",
       "32018  -91.910278  29.895000  \n",
       "32162  -91.811389  29.805556  \n",
       "34545  -83.148889  42.282778  \n",
       "44463 -103.973056  32.392500  \n",
       "44464 -103.989167  32.552222  \n",
       "44704 -104.041111  32.304444  \n",
       "45481  -76.531667  42.534722  \n",
       "47027  -77.835556  42.748333  \n",
       "49999  -81.284167  41.754444  \n",
       "50000  -81.710556  41.498333  \n",
       "64168  -95.710833  32.658056  \n",
       "64298  -95.838889  29.964722  "
      ]
     },
     "metadata": {},
     "output_type": "display_data"
    }
   ],
   "source": [
    "mines['LONGITUDE'] = mines.LONGITUDE * -1\n",
    "#mines.head(100)\n",
    "with pd.option_context('display.max_colwidth', 9999):\n",
    "     display(mines.head(100))"
   ]
  },
  {
   "cell_type": "code",
   "execution_count": 15,
   "metadata": {},
   "outputs": [],
   "source": [
    "mines.to_csv(\"mines.csv\")"
   ]
  },
  {
   "cell_type": "code",
   "execution_count": 16,
   "metadata": {},
   "outputs": [],
   "source": [
    "# select rows that contain one or more words\n",
    "#mines[mines[\"CURRENT_MINE_NAME\"]\n",
    "#           .str.contains(\"Fairport|Windsor|Baker\", na = False)].head()"
   ]
  }
 ],
 "metadata": {
  "kernelspec": {
   "display_name": "Python 3",
   "language": "python",
   "name": "python3"
  },
  "language_info": {
   "codemirror_mode": {
    "name": "ipython",
    "version": 3
   },
   "file_extension": ".py",
   "mimetype": "text/x-python",
   "name": "python",
   "nbconvert_exporter": "python",
   "pygments_lexer": "ipython3",
   "version": "3.7.2"
  }
 },
 "nbformat": 4,
 "nbformat_minor": 2
}
