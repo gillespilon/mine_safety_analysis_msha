{
 "cells": [
  {
   "cell_type": "markdown",
   "metadata": {},
   "source": [
    "# MSHA Mines + Violations\n",
    "\n",
    "The data sets are on the [MSHA data sets page](https://arlweb.msha.gov/opengovernmentdata/ogimsha.asp)"
   ]
  },
  {
   "cell_type": "code",
   "execution_count": null,
   "metadata": {},
   "outputs": [],
   "source": [
    "from datetime import datetime\n",
    "start_time = datetime.now()"
   ]
  },
  {
   "cell_type": "code",
   "execution_count": null,
   "metadata": {},
   "outputs": [],
   "source": [
    "import pandas as pd\n",
    "from IPython.display import display"
   ]
  },
  {
   "cell_type": "markdown",
   "metadata": {
    "collapsed": true
   },
   "source": [
    "Import the [mine definition file](https://arlweb.msha.gov/opengovernmentdata/DataSets/Mines_Definition_File.txt)."
   ]
  },
  {
   "cell_type": "code",
   "execution_count": null,
   "metadata": {},
   "outputs": [],
   "source": [
    "# import from local storage\n",
    "#mines_definition = pd.read_table('Mines_Definition_File.txt', sep='|')"
   ]
  },
  {
   "cell_type": "code",
   "execution_count": null,
   "metadata": {},
   "outputs": [],
   "source": [
    "# import from the MSHA website\n",
    "mines_definition = pd.read_table(\n",
    "    'https://arlweb.msha.gov/opengovernmentdata/DataSets/Mines_Definition_File.txt', \n",
    "    sep='|')"
   ]
  },
  {
   "cell_type": "code",
   "execution_count": null,
   "metadata": {},
   "outputs": [],
   "source": [
    "mines_definition.shape"
   ]
  },
  {
   "cell_type": "code",
   "execution_count": null,
   "metadata": {},
   "outputs": [],
   "source": [
    "with pd.option_context('display.max_colwidth', 9999):\n",
    "     display(mines_definition.head(2))"
   ]
  },
  {
   "cell_type": "markdown",
   "metadata": {
    "collapsed": true
   },
   "source": [
    "Import the [violations definition file](https://arlweb.msha.gov/opengovernmentdata/DataSets/violations_Definition_File.txt)."
   ]
  },
  {
   "cell_type": "code",
   "execution_count": null,
   "metadata": {},
   "outputs": [],
   "source": [
    "#read file from local storage\n",
    "#violations_definition = pd.read_table('violations_Definition_File.txt',\n",
    "#                                 sep='|',\n",
    "#                                 index_col='COLUMN_NAME')"
   ]
  },
  {
   "cell_type": "code",
   "execution_count": null,
   "metadata": {},
   "outputs": [],
   "source": [
    "#read file from website\n",
    "violations_definition = pd.read_table(\n",
    "    'https://arlweb.msha.gov/opengovernmentdata/DataSets/violations_Definition_File.txt', \n",
    "    sep='|',\n",
    "    index_col='COLUMN_NAME'\n",
    ")"
   ]
  },
  {
   "cell_type": "code",
   "execution_count": null,
   "metadata": {
    "scrolled": true
   },
   "outputs": [],
   "source": [
    "with pd.option_context('display.max_colwidth', 9999):\n",
    "     display(violations_definition.head(2))"
   ]
  },
  {
   "cell_type": "markdown",
   "metadata": {},
   "source": [
    "Read the mines list file."
   ]
  },
  {
   "cell_type": "code",
   "execution_count": null,
   "metadata": {},
   "outputs": [],
   "source": [
    "from os import access, R_OK, unlink\n",
    "\n",
    "import requests\n",
    "\n",
    "\n",
    "def download(url, *, to, _chunk_size=8 << 10):\n",
    "    '''\n",
    "    Stream contents of url to file\n",
    "    '''\n",
    "    # Arbitrarily chose to write in 8KiB chunks. Could tweak after profiling.\n",
    "    r = requests.get(url, stream=True)\n",
    "    r.raise_for_status()\n",
    "    try:\n",
    "        with open(to, 'wb') as fp:\n",
    "            for chunk in r.iter_content(chunk_size=_chunk_size):\n",
    "                fp.write(chunk)\n",
    "    except:\n",
    "        unlink(to)\n",
    "\n",
    "\n",
    "#try:\n",
    "#    st = stat('Mines.zip')\n",
    "#    # TODO: Which GMT\n",
    "#    # Locales can mess this up, but let's assume only en_US for now.\n",
    "#    headers = {'If-Modified-Since':\n",
    "#                   st.mtime\n",
    "#                     .astimezone()\n",
    "#                     .strftime('%a, %d %b %Y %H:%M:%S GMT')}\n",
    "\n",
    "# If you have downloaded the Mines.zip and Violations.zip files manually, the script\n",
    "# will read your local files.\n",
    "# Otherwise it will download them from MSHA.\n",
    "\n",
    "if not access('Mines.zip', R_OK):\n",
    "    download('https://arlweb.msha.gov/opengovernmentdata/DataSets/Mines.zip',\n",
    "             to='Mines.zip')\n",
    "if not access('Violations.zip', R_OK):\n",
    "    download('https://arlweb.msha.gov/opengovernmentdata/DataSets/Violations.zip',\n",
    "             to='Violations.zip')"
   ]
  },
  {
   "cell_type": "code",
   "execution_count": null,
   "metadata": {},
   "outputs": [],
   "source": [
    "from zipfile import ZipFile\n",
    "\n",
    "with ZipFile('Mines.zip', 'r') as zf:\n",
    "    print(zf.namelist())\n",
    "    with zf.open('Mines.txt') as fp:\n",
    "        mines = pd.read_table(fp, encoding='latin-1', sep='|', parse_dates=True)\n",
    "\n",
    "# to watch the download in a terminal\n",
    "# du -h Mines.zip"
   ]
  },
  {
   "cell_type": "code",
   "execution_count": null,
   "metadata": {},
   "outputs": [],
   "source": [
    "#from zipfile import ZipFile\n",
    "#\n",
    "#with ZipFile('Mines.zip', 'r') as zf:\n",
    "#    print(zf.namelist())\n",
    "#    with zf.open('Mines.txt') as fp:\n",
    "#        mines = pd.read_table(fp, encoding='latin-1', sep='|', \n",
    "#                              usecols=[\"MINE_ID\", \"CURRENT_MINE_NAME\"],\n",
    "#                              parse_dates=True)"
   ]
  },
  {
   "cell_type": "code",
   "execution_count": null,
   "metadata": {},
   "outputs": [],
   "source": [
    "mines.shape"
   ]
  },
  {
   "cell_type": "code",
   "execution_count": null,
   "metadata": {},
   "outputs": [],
   "source": [
    "mines.columns"
   ]
  },
  {
   "cell_type": "code",
   "execution_count": null,
   "metadata": {},
   "outputs": [],
   "source": [
    "#mines = pd.read_table('Mines.txt', encoding='latin-1', sep='|', \n",
    "#                       usecols=[\"MINE_ID\", \"CURRENT_MINE_NAME\"])\n",
    "#mines.head(5)"
   ]
  },
  {
   "cell_type": "code",
   "execution_count": null,
   "metadata": {},
   "outputs": [],
   "source": [
    "#mines.head(2)\n",
    "with pd.option_context('display.max_colwidth', 9999):\n",
    "     display(mines.head(2))"
   ]
  },
  {
   "cell_type": "code",
   "execution_count": null,
   "metadata": {},
   "outputs": [],
   "source": [
    "mines.tail(2)"
   ]
  },
  {
   "cell_type": "code",
   "execution_count": null,
   "metadata": {
    "scrolled": true
   },
   "outputs": [],
   "source": [
    "#pd.crosstab([mines.STATE], mines.CURRENT_MINE_TYPE, margins=True)"
   ]
  },
  {
   "cell_type": "code",
   "execution_count": null,
   "metadata": {},
   "outputs": [],
   "source": [
    "#from IPython.display import display\n",
    "#with pd.option_context('display.max_rows', 1000):\n",
    "#    display(pd.crosstab([mines.STATE, mines.CURRENT_MINE_STATUS],\n",
    "#                         mines.CURRENT_MINE_TYPE, margins=True))"
   ]
  },
  {
   "cell_type": "code",
   "execution_count": null,
   "metadata": {},
   "outputs": [],
   "source": [
    "# use this to read the data and delete the last row, if it is consistent every week\n",
    "#violations = pd.read_table('Violations.txt', encoding='latin-1', sep='|', \\\n",
    "#                           parse_dates=True, skip_footer=1)"
   ]
  },
  {
   "cell_type": "code",
   "execution_count": null,
   "metadata": {
    "scrolled": true
   },
   "outputs": [],
   "source": [
    "#violations = pd.read_csv('Violations.txt', encoding='latin-1', sep='|', parse_dates=True)"
   ]
  },
  {
   "cell_type": "code",
   "execution_count": null,
   "metadata": {},
   "outputs": [],
   "source": [
    "#violations = pd.read_csv('Violations.txt', encoding='latin-1', sep='|', \n",
    "#                           parse_dates=[\"INSPECTION_BEGIN_DT\"], \n",
    "#                           usecols=[\"MINE_ID\", \"INSPECTION_BEGIN_DT\", \"MINE_NAME\", \n",
    "#                                    \"PROPOSED_PENALTY\", \"PART_SECTION\", \"EVENT_NO\"])"
   ]
  },
  {
   "cell_type": "code",
   "execution_count": null,
   "metadata": {},
   "outputs": [],
   "source": [
    "%%time\n",
    "with ZipFile('Violations.zip', 'r') as zf:\n",
    "    with zf.open('Violations.txt') as fp:\n",
    "        violations = pd.read_csv(fp, encoding='latin-1', sep='|',\n",
    "                               parse_dates=[\"INSPECTION_BEGIN_DT\"],\n",
    "                               infer_datetime_format=True,\n",
    "                               usecols=[\"MINE_ID\", \"INSPECTION_BEGIN_DT\", \"MINE_NAME\",\n",
    "                                        \"PROPOSED_PENALTY\", \"PART_SECTION\", \"EVENT_NO\"])\n",
    "\n",
    "# to watch the download in a terminal\n",
    "# du -h Violations.zip"
   ]
  },
  {
   "cell_type": "code",
   "execution_count": null,
   "metadata": {},
   "outputs": [],
   "source": [
    "violations.shape"
   ]
  },
  {
   "cell_type": "code",
   "execution_count": null,
   "metadata": {},
   "outputs": [],
   "source": [
    "violations.head()"
   ]
  },
  {
   "cell_type": "code",
   "execution_count": null,
   "metadata": {},
   "outputs": [],
   "source": [
    "# The INSPECTION_BEGIN_DT column is MM/DD/YYYY which is stupid to sort.\n",
    "violations = violations.sort_values(by = [\"INSPECTION_BEGIN_DT\"])\n",
    "violations.head()"
   ]
  },
  {
   "cell_type": "code",
   "execution_count": null,
   "metadata": {},
   "outputs": [],
   "source": [
    "# drop rows before a specific date\n",
    "violations = violations[(violations[\"INSPECTION_BEGIN_DT\"] >= \"2017-01-01\")]\n",
    "violations.head()"
   ]
  },
  {
   "cell_type": "code",
   "execution_count": null,
   "metadata": {},
   "outputs": [],
   "source": [
    "violations.shape"
   ]
  },
  {
   "cell_type": "code",
   "execution_count": null,
   "metadata": {},
   "outputs": [],
   "source": [
    "# identify duplicate rows, by default keep the first in each set of duplicates\n",
    "violations.duplicated().value_counts()"
   ]
  },
  {
   "cell_type": "code",
   "execution_count": null,
   "metadata": {},
   "outputs": [],
   "source": [
    "# drop duplicate rows, by default keeping the first in each set of duplicates\n",
    "#violations.drop_duplicates()"
   ]
  },
  {
   "cell_type": "code",
   "execution_count": null,
   "metadata": {},
   "outputs": [],
   "source": [
    "# select rows that contain one or more words\n",
    "violations[violations[\"MINE_NAME\"]\n",
    "           .str.contains(\"Fairport|Windsor|Baker\", na = False)].head()"
   ]
  },
  {
   "cell_type": "code",
   "execution_count": null,
   "metadata": {},
   "outputs": [],
   "source": [
    "violations.index"
   ]
  },
  {
   "cell_type": "code",
   "execution_count": null,
   "metadata": {},
   "outputs": [],
   "source": [
    "#for column_index in (0,25,34,36,37,46,55,56,58):\n",
    "#    column_name = violations.columns[column_index]\n",
    "#    with pd.option_context('display.max_colwidth', 9999):\n",
    "#        display(violations_definition.loc[column_name],\n",
    "#                set(map(type,\n",
    "#                        violations[column_name].unique())))"
   ]
  },
  {
   "cell_type": "code",
   "execution_count": null,
   "metadata": {},
   "outputs": [],
   "source": [
    "violations.columns"
   ]
  },
  {
   "cell_type": "code",
   "execution_count": null,
   "metadata": {},
   "outputs": [],
   "source": [
    "with pd.option_context('display.max_colwidth', 9999):\n",
    "     display(violations.head(2))"
   ]
  },
  {
   "cell_type": "code",
   "execution_count": null,
   "metadata": {},
   "outputs": [],
   "source": [
    "violations.tail(2)"
   ]
  },
  {
   "cell_type": "code",
   "execution_count": null,
   "metadata": {},
   "outputs": [],
   "source": [
    "# Delete the last row\n",
    "violations = violations.drop(violations.tail(1).index)"
   ]
  },
  {
   "cell_type": "code",
   "execution_count": null,
   "metadata": {},
   "outputs": [],
   "source": [
    "violations.tail(2)"
   ]
  },
  {
   "cell_type": "code",
   "execution_count": null,
   "metadata": {
    "scrolled": true
   },
   "outputs": [],
   "source": [
    "# counts for column content\n",
    "violation_counts = violations['EVENT_NO'].value_counts()\n",
    "violation_counts.head()"
   ]
  },
  {
   "cell_type": "code",
   "execution_count": null,
   "metadata": {},
   "outputs": [],
   "source": [
    "# counts for column content\n",
    "#violations['CIT_ORD_SAFE'].value_counts()"
   ]
  },
  {
   "cell_type": "code",
   "execution_count": null,
   "metadata": {},
   "outputs": [],
   "source": [
    "# counts for column content\n",
    "#violations['PART_SECTION'].value_counts()"
   ]
  },
  {
   "cell_type": "code",
   "execution_count": null,
   "metadata": {},
   "outputs": [],
   "source": [
    "#pd.options.display.max_rows=1000\n",
    "#pd.crosstab([violations['MINE_ID']], violations['PART_SECTION'], margins=True)"
   ]
  },
  {
   "cell_type": "code",
   "execution_count": null,
   "metadata": {},
   "outputs": [],
   "source": [
    "#violations.insert(loc=9, column='CURRENT_OPERATOR_NAME', value='')"
   ]
  },
  {
   "cell_type": "code",
   "execution_count": null,
   "metadata": {},
   "outputs": [],
   "source": [
    "#violations.head(2)"
   ]
  },
  {
   "cell_type": "code",
   "execution_count": null,
   "metadata": {},
   "outputs": [],
   "source": [
    "set(violations.columns) & set(mines.columns)"
   ]
  },
  {
   "cell_type": "code",
   "execution_count": null,
   "metadata": {},
   "outputs": [],
   "source": [
    "%time df = pd.crosstab([violations.MINE_ID], violations.PART_SECTION, margins=True)"
   ]
  },
  {
   "cell_type": "code",
   "execution_count": null,
   "metadata": {},
   "outputs": [],
   "source": [
    "rhs = mines[['MINE_ID', 'CURRENT_OPERATOR_NAME']]\n",
    "rhs = rhs.set_index('MINE_ID')\n",
    "#df[[]].join(rhs)\n",
    "df['CURRENT_OPERATOR_NAME'] = df[[]].join(rhs)['CURRENT_OPERATOR_NAME']"
   ]
  },
  {
   "cell_type": "code",
   "execution_count": null,
   "metadata": {},
   "outputs": [],
   "source": [
    "df = df.set_index('CURRENT_OPERATOR_NAME', append=True)\n",
    "df.head()"
   ]
  },
  {
   "cell_type": "code",
   "execution_count": null,
   "metadata": {},
   "outputs": [],
   "source": [
    "from sys import getsizeof\n",
    "pd.DataFrame.from_records([(k, getsizeof(v) / 1024**3)\n",
    "                           for k, v\n",
    "                           in locals().items()],\n",
    "                          columns=('name', 'size (bytes)'),\n",
    "                          index='name') \\\n",
    "            .sort_values('size (bytes)', ascending=False)"
   ]
  },
  {
   "cell_type": "markdown",
   "metadata": {},
   "source": [
    "We really should `del` unused objects, such as `df`."
   ]
  },
  {
   "cell_type": "code",
   "execution_count": null,
   "metadata": {},
   "outputs": [],
   "source": [
    "%reset -f in out"
   ]
  },
  {
   "cell_type": "code",
   "execution_count": null,
   "metadata": {},
   "outputs": [],
   "source": [
    "del df"
   ]
  },
  {
   "cell_type": "code",
   "execution_count": null,
   "metadata": {},
   "outputs": [],
   "source": [
    "from sys import getsizeof\n",
    "pd.DataFrame.from_records([(k, getsizeof(v) / 1024**3)\n",
    "                           for k, v\n",
    "                           in locals().items()],\n",
    "                          columns=('name', 'size (GB)'),\n",
    "                          index='name') \\\n",
    "            .sort_values('size (GB)', ascending=False)"
   ]
  },
  {
   "cell_type": "code",
   "execution_count": null,
   "metadata": {},
   "outputs": [],
   "source": [
    "end_time = datetime.now()\n",
    "(end_time - start_time).total_seconds()"
   ]
  }
 ],
 "metadata": {
  "kernelspec": {
   "display_name": "Python 3",
   "language": "python",
   "name": "python3"
  },
  "language_info": {
   "codemirror_mode": {
    "name": "ipython",
    "version": 3
   },
   "file_extension": ".py",
   "mimetype": "text/x-python",
   "name": "python",
   "nbconvert_exporter": "python",
   "pygments_lexer": "ipython3",
   "version": "3.7.4"
  }
 },
 "nbformat": 4,
 "nbformat_minor": 2
}
